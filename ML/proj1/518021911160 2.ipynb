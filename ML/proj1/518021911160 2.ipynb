{
 "cells": [
  {
   "cell_type": "markdown",
   "metadata": {},
   "source": [
    "# Project1   \n",
    "# Doujiawei    518021911160\n",
    "# Introduction\n",
    "\n",
    "    In this project , we are going to implement two classification algorithms:\n",
    "\n",
    "        Naive bayesian\n",
    "    \n",
    "        Logistic Regression\n",
    "\n",
    "    This projec will be divided into two parts for training and testing . Now let's begin!"
   ]
  },
  {
   "cell_type": "markdown",
   "metadata": {},
   "source": [
    "# \n",
    "# Inplementation"
   ]
  },
  {
   "cell_type": "markdown",
   "metadata": {},
   "source": [
    "### Data Splitting\n",
    "    Check the dataset and split the file ."
   ]
  },
  {
   "cell_type": "code",
   "execution_count": 366,
   "metadata": {},
   "outputs": [],
   "source": [
    "import pandas as pd\n",
    "import numpy  as np\n",
    "import time\n",
    "import numpy.matlib\n",
    "from sklearn.metrics import accuracy_score\n",
    "from sklearn import svm#导出svm\n",
    "from sklearn.model_selection import train_test_split\n",
    "import matplotlib.pyplot as plt\n",
    "import math\n",
    "pd.set_option('mode.chained_assignment', None)"
   ]
  },
  {
   "cell_type": "code",
   "execution_count": 367,
   "metadata": {},
   "outputs": [],
   "source": [
    "data = pd.read_csv(\"./train.csv\")\n",
    "test = pd.read_csv(\"./test.csv\")\n",
    "## load the dataset\n",
    "data_rest, data_test = train_test_split(data, test_size = 200, random_state = 1, stratify = data['price_range'])\n",
    "data_train, data_valid = train_test_split(data_rest, test_size = 200, random_state = 1, stratify = data_rest['price_range'])\n",
    "## split the data into train , valid and test with the ratio of 8:1:1\n",
    "data_valid.to_csv('./valid.csv')\n",
    "data_test.to_csv('./test.csv')"
   ]
  },
  {
   "cell_type": "markdown",
   "metadata": {},
   "source": [
    "# "
   ]
  },
  {
   "cell_type": "markdown",
   "metadata": {},
   "source": [
    "### Data Preprocessing"
   ]
  },
  {
   "cell_type": "code",
   "execution_count": 368,
   "metadata": {},
   "outputs": [
    {
     "data": {
      "text/html": [
       "<div>\n",
       "<style scoped>\n",
       "    .dataframe tbody tr th:only-of-type {\n",
       "        vertical-align: middle;\n",
       "    }\n",
       "\n",
       "    .dataframe tbody tr th {\n",
       "        vertical-align: top;\n",
       "    }\n",
       "\n",
       "    .dataframe thead th {\n",
       "        text-align: right;\n",
       "    }\n",
       "</style>\n",
       "<table border=\"1\" class=\"dataframe\">\n",
       "  <thead>\n",
       "    <tr style=\"text-align: right;\">\n",
       "      <th></th>\n",
       "      <th>battery_power</th>\n",
       "      <th>blue</th>\n",
       "      <th>clock_speed</th>\n",
       "      <th>dual_sim</th>\n",
       "      <th>fc</th>\n",
       "      <th>four_g</th>\n",
       "      <th>int_memory</th>\n",
       "      <th>m_dep</th>\n",
       "      <th>mobile_wt</th>\n",
       "      <th>n_cores</th>\n",
       "      <th>...</th>\n",
       "      <th>px_height</th>\n",
       "      <th>px_width</th>\n",
       "      <th>ram</th>\n",
       "      <th>sc_h</th>\n",
       "      <th>sc_w</th>\n",
       "      <th>talk_time</th>\n",
       "      <th>three_g</th>\n",
       "      <th>touch_screen</th>\n",
       "      <th>wifi</th>\n",
       "      <th>price_range</th>\n",
       "    </tr>\n",
       "  </thead>\n",
       "  <tbody>\n",
       "    <tr>\n",
       "      <th>0</th>\n",
       "      <td>842</td>\n",
       "      <td>0</td>\n",
       "      <td>2.2</td>\n",
       "      <td>0</td>\n",
       "      <td>1</td>\n",
       "      <td>0</td>\n",
       "      <td>7</td>\n",
       "      <td>0.6</td>\n",
       "      <td>188</td>\n",
       "      <td>2</td>\n",
       "      <td>...</td>\n",
       "      <td>20</td>\n",
       "      <td>756</td>\n",
       "      <td>2549</td>\n",
       "      <td>9</td>\n",
       "      <td>7</td>\n",
       "      <td>19</td>\n",
       "      <td>0</td>\n",
       "      <td>0</td>\n",
       "      <td>1</td>\n",
       "      <td>1</td>\n",
       "    </tr>\n",
       "    <tr>\n",
       "      <th>1</th>\n",
       "      <td>1021</td>\n",
       "      <td>1</td>\n",
       "      <td>0.5</td>\n",
       "      <td>1</td>\n",
       "      <td>0</td>\n",
       "      <td>1</td>\n",
       "      <td>53</td>\n",
       "      <td>0.7</td>\n",
       "      <td>136</td>\n",
       "      <td>3</td>\n",
       "      <td>...</td>\n",
       "      <td>905</td>\n",
       "      <td>1988</td>\n",
       "      <td>2631</td>\n",
       "      <td>17</td>\n",
       "      <td>3</td>\n",
       "      <td>7</td>\n",
       "      <td>1</td>\n",
       "      <td>1</td>\n",
       "      <td>0</td>\n",
       "      <td>2</td>\n",
       "    </tr>\n",
       "    <tr>\n",
       "      <th>2</th>\n",
       "      <td>563</td>\n",
       "      <td>1</td>\n",
       "      <td>0.5</td>\n",
       "      <td>1</td>\n",
       "      <td>2</td>\n",
       "      <td>1</td>\n",
       "      <td>41</td>\n",
       "      <td>0.9</td>\n",
       "      <td>145</td>\n",
       "      <td>5</td>\n",
       "      <td>...</td>\n",
       "      <td>1263</td>\n",
       "      <td>1716</td>\n",
       "      <td>2603</td>\n",
       "      <td>11</td>\n",
       "      <td>2</td>\n",
       "      <td>9</td>\n",
       "      <td>1</td>\n",
       "      <td>1</td>\n",
       "      <td>0</td>\n",
       "      <td>2</td>\n",
       "    </tr>\n",
       "    <tr>\n",
       "      <th>3</th>\n",
       "      <td>615</td>\n",
       "      <td>1</td>\n",
       "      <td>2.5</td>\n",
       "      <td>0</td>\n",
       "      <td>0</td>\n",
       "      <td>0</td>\n",
       "      <td>10</td>\n",
       "      <td>0.8</td>\n",
       "      <td>131</td>\n",
       "      <td>6</td>\n",
       "      <td>...</td>\n",
       "      <td>1216</td>\n",
       "      <td>1786</td>\n",
       "      <td>2769</td>\n",
       "      <td>16</td>\n",
       "      <td>8</td>\n",
       "      <td>11</td>\n",
       "      <td>1</td>\n",
       "      <td>0</td>\n",
       "      <td>0</td>\n",
       "      <td>2</td>\n",
       "    </tr>\n",
       "    <tr>\n",
       "      <th>4</th>\n",
       "      <td>1821</td>\n",
       "      <td>1</td>\n",
       "      <td>1.2</td>\n",
       "      <td>0</td>\n",
       "      <td>13</td>\n",
       "      <td>1</td>\n",
       "      <td>44</td>\n",
       "      <td>0.6</td>\n",
       "      <td>141</td>\n",
       "      <td>2</td>\n",
       "      <td>...</td>\n",
       "      <td>1208</td>\n",
       "      <td>1212</td>\n",
       "      <td>1411</td>\n",
       "      <td>8</td>\n",
       "      <td>2</td>\n",
       "      <td>15</td>\n",
       "      <td>1</td>\n",
       "      <td>1</td>\n",
       "      <td>0</td>\n",
       "      <td>1</td>\n",
       "    </tr>\n",
       "  </tbody>\n",
       "</table>\n",
       "<p>5 rows × 21 columns</p>\n",
       "</div>"
      ],
      "text/plain": [
       "   battery_power  blue  clock_speed  dual_sim  fc  four_g  int_memory  m_dep  \\\n",
       "0            842     0          2.2         0   1       0           7    0.6   \n",
       "1           1021     1          0.5         1   0       1          53    0.7   \n",
       "2            563     1          0.5         1   2       1          41    0.9   \n",
       "3            615     1          2.5         0   0       0          10    0.8   \n",
       "4           1821     1          1.2         0  13       1          44    0.6   \n",
       "\n",
       "   mobile_wt  n_cores  ...  px_height  px_width   ram  sc_h  sc_w  talk_time  \\\n",
       "0        188        2  ...         20       756  2549     9     7         19   \n",
       "1        136        3  ...        905      1988  2631    17     3          7   \n",
       "2        145        5  ...       1263      1716  2603    11     2          9   \n",
       "3        131        6  ...       1216      1786  2769    16     8         11   \n",
       "4        141        2  ...       1208      1212  1411     8     2         15   \n",
       "\n",
       "   three_g  touch_screen  wifi  price_range  \n",
       "0        0             0     1            1  \n",
       "1        1             1     0            2  \n",
       "2        1             1     0            2  \n",
       "3        1             0     0            2  \n",
       "4        1             1     0            1  \n",
       "\n",
       "[5 rows x 21 columns]"
      ]
     },
     "execution_count": 368,
     "metadata": {},
     "output_type": "execute_result"
    }
   ],
   "source": [
    "data.head()"
   ]
  },
  {
   "cell_type": "code",
   "execution_count": 369,
   "metadata": {},
   "outputs": [
    {
     "data": {
      "text/plain": [
       "Index(['battery_power', 'blue', 'clock_speed', 'dual_sim', 'fc', 'four_g',\n",
       "       'int_memory', 'm_dep', 'mobile_wt', 'n_cores', 'pc', 'px_height',\n",
       "       'px_width', 'ram', 'sc_h', 'sc_w', 'talk_time', 'three_g',\n",
       "       'touch_screen', 'wifi', 'price_range'],\n",
       "      dtype='object')"
      ]
     },
     "execution_count": 369,
     "metadata": {},
     "output_type": "execute_result"
    }
   ],
   "source": [
    "data.columns"
   ]
  },
  {
   "cell_type": "markdown",
   "metadata": {},
   "source": [
    "\n",
    "    Now we have the attributes above of the dataset . We can get their type too!\n",
    "    "
   ]
  },
  {
   "cell_type": "code",
   "execution_count": 370,
   "metadata": {},
   "outputs": [
    {
     "data": {
      "text/plain": [
       "battery_power      int64\n",
       "blue               int64\n",
       "clock_speed      float64\n",
       "dual_sim           int64\n",
       "fc                 int64\n",
       "four_g             int64\n",
       "int_memory         int64\n",
       "m_dep            float64\n",
       "mobile_wt          int64\n",
       "n_cores            int64\n",
       "pc                 int64\n",
       "px_height          int64\n",
       "px_width           int64\n",
       "ram                int64\n",
       "sc_h               int64\n",
       "sc_w               int64\n",
       "talk_time          int64\n",
       "three_g            int64\n",
       "touch_screen       int64\n",
       "wifi               int64\n",
       "price_range        int64\n",
       "dtype: object"
      ]
     },
     "execution_count": 370,
     "metadata": {},
     "output_type": "execute_result"
    }
   ],
   "source": [
    "data.dtypes"
   ]
  },
  {
   "cell_type": "markdown",
   "metadata": {},
   "source": [
    "    Now let's check if there is some data null ."
   ]
  },
  {
   "cell_type": "code",
   "execution_count": 371,
   "metadata": {},
   "outputs": [
    {
     "data": {
      "text/plain": [
       "battery_power    0\n",
       "blue             0\n",
       "clock_speed      0\n",
       "dual_sim         0\n",
       "fc               0\n",
       "four_g           0\n",
       "int_memory       0\n",
       "m_dep            0\n",
       "mobile_wt        0\n",
       "n_cores          0\n",
       "pc               0\n",
       "px_height        0\n",
       "px_width         0\n",
       "ram              0\n",
       "sc_h             0\n",
       "sc_w             0\n",
       "talk_time        0\n",
       "three_g          0\n",
       "touch_screen     0\n",
       "wifi             0\n",
       "price_range      0\n",
       "dtype: int64"
      ]
     },
     "execution_count": 371,
     "metadata": {},
     "output_type": "execute_result"
    }
   ],
   "source": [
    "pd.isnull(data).sum()"
   ]
  },
  {
   "cell_type": "markdown",
   "metadata": {},
   "source": [
    "    Since no attribute has null value , we can take next step ."
   ]
  },
  {
   "cell_type": "code",
   "execution_count": 372,
   "metadata": {},
   "outputs": [
    {
     "data": {
      "text/html": [
       "<div>\n",
       "<style scoped>\n",
       "    .dataframe tbody tr th:only-of-type {\n",
       "        vertical-align: middle;\n",
       "    }\n",
       "\n",
       "    .dataframe tbody tr th {\n",
       "        vertical-align: top;\n",
       "    }\n",
       "\n",
       "    .dataframe thead th {\n",
       "        text-align: right;\n",
       "    }\n",
       "</style>\n",
       "<table border=\"1\" class=\"dataframe\">\n",
       "  <thead>\n",
       "    <tr style=\"text-align: right;\">\n",
       "      <th></th>\n",
       "      <th>battery_power</th>\n",
       "      <th>blue</th>\n",
       "      <th>clock_speed</th>\n",
       "      <th>dual_sim</th>\n",
       "      <th>fc</th>\n",
       "      <th>four_g</th>\n",
       "      <th>int_memory</th>\n",
       "      <th>m_dep</th>\n",
       "      <th>mobile_wt</th>\n",
       "      <th>n_cores</th>\n",
       "      <th>...</th>\n",
       "      <th>px_height</th>\n",
       "      <th>px_width</th>\n",
       "      <th>ram</th>\n",
       "      <th>sc_h</th>\n",
       "      <th>sc_w</th>\n",
       "      <th>talk_time</th>\n",
       "      <th>three_g</th>\n",
       "      <th>touch_screen</th>\n",
       "      <th>wifi</th>\n",
       "      <th>price_range</th>\n",
       "    </tr>\n",
       "  </thead>\n",
       "  <tbody>\n",
       "    <tr>\n",
       "      <th>count</th>\n",
       "      <td>1600.000000</td>\n",
       "      <td>1600.00000</td>\n",
       "      <td>1600.000000</td>\n",
       "      <td>1600.000000</td>\n",
       "      <td>1600.000000</td>\n",
       "      <td>1600.000000</td>\n",
       "      <td>1600.000000</td>\n",
       "      <td>1600.000000</td>\n",
       "      <td>1600.000000</td>\n",
       "      <td>1600.000000</td>\n",
       "      <td>...</td>\n",
       "      <td>1600.000000</td>\n",
       "      <td>1600.000000</td>\n",
       "      <td>1600.000000</td>\n",
       "      <td>1600.000000</td>\n",
       "      <td>1600.000000</td>\n",
       "      <td>1600.000000</td>\n",
       "      <td>1600.000000</td>\n",
       "      <td>1600.000000</td>\n",
       "      <td>1600.000000</td>\n",
       "      <td>1600.000000</td>\n",
       "    </tr>\n",
       "    <tr>\n",
       "      <th>mean</th>\n",
       "      <td>1237.495625</td>\n",
       "      <td>0.49125</td>\n",
       "      <td>1.516000</td>\n",
       "      <td>0.510625</td>\n",
       "      <td>4.320625</td>\n",
       "      <td>0.521250</td>\n",
       "      <td>31.915000</td>\n",
       "      <td>0.501875</td>\n",
       "      <td>140.618125</td>\n",
       "      <td>4.550000</td>\n",
       "      <td>...</td>\n",
       "      <td>638.915625</td>\n",
       "      <td>1245.527500</td>\n",
       "      <td>2130.762500</td>\n",
       "      <td>12.229375</td>\n",
       "      <td>5.737500</td>\n",
       "      <td>11.036250</td>\n",
       "      <td>0.758125</td>\n",
       "      <td>0.501250</td>\n",
       "      <td>0.500000</td>\n",
       "      <td>1.500000</td>\n",
       "    </tr>\n",
       "    <tr>\n",
       "      <th>std</th>\n",
       "      <td>438.913115</td>\n",
       "      <td>0.50008</td>\n",
       "      <td>0.821365</td>\n",
       "      <td>0.500043</td>\n",
       "      <td>4.356138</td>\n",
       "      <td>0.499704</td>\n",
       "      <td>18.068393</td>\n",
       "      <td>0.288376</td>\n",
       "      <td>35.089376</td>\n",
       "      <td>2.274199</td>\n",
       "      <td>...</td>\n",
       "      <td>444.218526</td>\n",
       "      <td>432.185036</td>\n",
       "      <td>1087.244192</td>\n",
       "      <td>4.195267</td>\n",
       "      <td>4.312072</td>\n",
       "      <td>5.496482</td>\n",
       "      <td>0.428353</td>\n",
       "      <td>0.500155</td>\n",
       "      <td>0.500156</td>\n",
       "      <td>1.118384</td>\n",
       "    </tr>\n",
       "    <tr>\n",
       "      <th>min</th>\n",
       "      <td>501.000000</td>\n",
       "      <td>0.00000</td>\n",
       "      <td>0.500000</td>\n",
       "      <td>0.000000</td>\n",
       "      <td>0.000000</td>\n",
       "      <td>0.000000</td>\n",
       "      <td>2.000000</td>\n",
       "      <td>0.100000</td>\n",
       "      <td>80.000000</td>\n",
       "      <td>1.000000</td>\n",
       "      <td>...</td>\n",
       "      <td>0.000000</td>\n",
       "      <td>500.000000</td>\n",
       "      <td>258.000000</td>\n",
       "      <td>5.000000</td>\n",
       "      <td>0.000000</td>\n",
       "      <td>2.000000</td>\n",
       "      <td>0.000000</td>\n",
       "      <td>0.000000</td>\n",
       "      <td>0.000000</td>\n",
       "      <td>0.000000</td>\n",
       "    </tr>\n",
       "    <tr>\n",
       "      <th>25%</th>\n",
       "      <td>852.750000</td>\n",
       "      <td>0.00000</td>\n",
       "      <td>0.600000</td>\n",
       "      <td>0.000000</td>\n",
       "      <td>1.000000</td>\n",
       "      <td>0.000000</td>\n",
       "      <td>16.000000</td>\n",
       "      <td>0.200000</td>\n",
       "      <td>110.000000</td>\n",
       "      <td>3.000000</td>\n",
       "      <td>...</td>\n",
       "      <td>280.000000</td>\n",
       "      <td>873.750000</td>\n",
       "      <td>1209.500000</td>\n",
       "      <td>9.000000</td>\n",
       "      <td>2.000000</td>\n",
       "      <td>6.000000</td>\n",
       "      <td>1.000000</td>\n",
       "      <td>0.000000</td>\n",
       "      <td>0.000000</td>\n",
       "      <td>0.750000</td>\n",
       "    </tr>\n",
       "    <tr>\n",
       "      <th>50%</th>\n",
       "      <td>1232.000000</td>\n",
       "      <td>0.00000</td>\n",
       "      <td>1.500000</td>\n",
       "      <td>1.000000</td>\n",
       "      <td>3.000000</td>\n",
       "      <td>1.000000</td>\n",
       "      <td>32.000000</td>\n",
       "      <td>0.500000</td>\n",
       "      <td>142.000000</td>\n",
       "      <td>5.000000</td>\n",
       "      <td>...</td>\n",
       "      <td>550.000000</td>\n",
       "      <td>1241.500000</td>\n",
       "      <td>2168.000000</td>\n",
       "      <td>12.000000</td>\n",
       "      <td>5.000000</td>\n",
       "      <td>11.000000</td>\n",
       "      <td>1.000000</td>\n",
       "      <td>1.000000</td>\n",
       "      <td>0.500000</td>\n",
       "      <td>1.500000</td>\n",
       "    </tr>\n",
       "    <tr>\n",
       "      <th>75%</th>\n",
       "      <td>1606.250000</td>\n",
       "      <td>1.00000</td>\n",
       "      <td>2.200000</td>\n",
       "      <td>1.000000</td>\n",
       "      <td>7.000000</td>\n",
       "      <td>1.000000</td>\n",
       "      <td>47.000000</td>\n",
       "      <td>0.800000</td>\n",
       "      <td>170.000000</td>\n",
       "      <td>7.000000</td>\n",
       "      <td>...</td>\n",
       "      <td>935.000000</td>\n",
       "      <td>1630.250000</td>\n",
       "      <td>3077.250000</td>\n",
       "      <td>16.000000</td>\n",
       "      <td>9.000000</td>\n",
       "      <td>16.000000</td>\n",
       "      <td>1.000000</td>\n",
       "      <td>1.000000</td>\n",
       "      <td>1.000000</td>\n",
       "      <td>2.250000</td>\n",
       "    </tr>\n",
       "    <tr>\n",
       "      <th>max</th>\n",
       "      <td>1997.000000</td>\n",
       "      <td>1.00000</td>\n",
       "      <td>3.000000</td>\n",
       "      <td>1.000000</td>\n",
       "      <td>19.000000</td>\n",
       "      <td>1.000000</td>\n",
       "      <td>64.000000</td>\n",
       "      <td>1.000000</td>\n",
       "      <td>200.000000</td>\n",
       "      <td>8.000000</td>\n",
       "      <td>...</td>\n",
       "      <td>1949.000000</td>\n",
       "      <td>1997.000000</td>\n",
       "      <td>3993.000000</td>\n",
       "      <td>19.000000</td>\n",
       "      <td>18.000000</td>\n",
       "      <td>20.000000</td>\n",
       "      <td>1.000000</td>\n",
       "      <td>1.000000</td>\n",
       "      <td>1.000000</td>\n",
       "      <td>3.000000</td>\n",
       "    </tr>\n",
       "  </tbody>\n",
       "</table>\n",
       "<p>8 rows × 21 columns</p>\n",
       "</div>"
      ],
      "text/plain": [
       "       battery_power        blue  clock_speed     dual_sim           fc  \\\n",
       "count    1600.000000  1600.00000  1600.000000  1600.000000  1600.000000   \n",
       "mean     1237.495625     0.49125     1.516000     0.510625     4.320625   \n",
       "std       438.913115     0.50008     0.821365     0.500043     4.356138   \n",
       "min       501.000000     0.00000     0.500000     0.000000     0.000000   \n",
       "25%       852.750000     0.00000     0.600000     0.000000     1.000000   \n",
       "50%      1232.000000     0.00000     1.500000     1.000000     3.000000   \n",
       "75%      1606.250000     1.00000     2.200000     1.000000     7.000000   \n",
       "max      1997.000000     1.00000     3.000000     1.000000    19.000000   \n",
       "\n",
       "            four_g   int_memory        m_dep    mobile_wt      n_cores  ...  \\\n",
       "count  1600.000000  1600.000000  1600.000000  1600.000000  1600.000000  ...   \n",
       "mean      0.521250    31.915000     0.501875   140.618125     4.550000  ...   \n",
       "std       0.499704    18.068393     0.288376    35.089376     2.274199  ...   \n",
       "min       0.000000     2.000000     0.100000    80.000000     1.000000  ...   \n",
       "25%       0.000000    16.000000     0.200000   110.000000     3.000000  ...   \n",
       "50%       1.000000    32.000000     0.500000   142.000000     5.000000  ...   \n",
       "75%       1.000000    47.000000     0.800000   170.000000     7.000000  ...   \n",
       "max       1.000000    64.000000     1.000000   200.000000     8.000000  ...   \n",
       "\n",
       "         px_height     px_width          ram         sc_h         sc_w  \\\n",
       "count  1600.000000  1600.000000  1600.000000  1600.000000  1600.000000   \n",
       "mean    638.915625  1245.527500  2130.762500    12.229375     5.737500   \n",
       "std     444.218526   432.185036  1087.244192     4.195267     4.312072   \n",
       "min       0.000000   500.000000   258.000000     5.000000     0.000000   \n",
       "25%     280.000000   873.750000  1209.500000     9.000000     2.000000   \n",
       "50%     550.000000  1241.500000  2168.000000    12.000000     5.000000   \n",
       "75%     935.000000  1630.250000  3077.250000    16.000000     9.000000   \n",
       "max    1949.000000  1997.000000  3993.000000    19.000000    18.000000   \n",
       "\n",
       "         talk_time      three_g  touch_screen         wifi  price_range  \n",
       "count  1600.000000  1600.000000   1600.000000  1600.000000  1600.000000  \n",
       "mean     11.036250     0.758125      0.501250     0.500000     1.500000  \n",
       "std       5.496482     0.428353      0.500155     0.500156     1.118384  \n",
       "min       2.000000     0.000000      0.000000     0.000000     0.000000  \n",
       "25%       6.000000     1.000000      0.000000     0.000000     0.750000  \n",
       "50%      11.000000     1.000000      1.000000     0.500000     1.500000  \n",
       "75%      16.000000     1.000000      1.000000     1.000000     2.250000  \n",
       "max      20.000000     1.000000      1.000000     1.000000     3.000000  \n",
       "\n",
       "[8 rows x 21 columns]"
      ]
     },
     "execution_count": 372,
     "metadata": {},
     "output_type": "execute_result"
    }
   ],
   "source": [
    "Des=data_train.describe()\n",
    "Des"
   ]
  },
  {
   "cell_type": "markdown",
   "metadata": {},
   "source": [
    "    Let's describe the target attribute as y and the rest as input x ."
   ]
  },
  {
   "cell_type": "code",
   "execution_count": 373,
   "metadata": {},
   "outputs": [],
   "source": [
    "data_train[\"price_range\"]=data_train[\"price_range\"].map(lambda z:int(z/2))\n",
    "data_valid[\"price_range\"]=data_valid[\"price_range\"].map(lambda z:int(z/2))\n",
    "y_train=data_train['price_range']\n",
    "x_train=data_train.drop('price_range',axis=1)\n",
    "y_valid=data_valid['price_range']\n",
    "x_valid=data_valid.drop('price_range',axis=1)\n",
    "columns=x_train.columns"
   ]
  },
  {
   "cell_type": "markdown",
   "metadata": {},
   "source": [
    "    Now we have split the dataset into input x and target y and change the data in y to low(0,1) which is signed as 0 and high(2,3) which is signed as 1 .\n",
    "# \n",
    "# \n"
   ]
  },
  {
   "cell_type": "markdown",
   "metadata": {},
   "source": [
    "\n",
    "\n",
    "\n",
    "\n",
    "\n",
    "### Model Inplementation\n",
    "    Now I'm going to implement the two algnorithms\n",
    "    \n",
    "    \n",
    "# \n",
    "    \n",
    "    \n",
    "    \n",
    "#### Naive Bayes"
   ]
  },
  {
   "cell_type": "code",
   "execution_count": 374,
   "metadata": {},
   "outputs": [],
   "source": [
    "#### Naive Bayes training\n",
    "    NB_time_b=time.time()\n",
    "    ## preparing\n",
    "    MeanTrain=data_train.groupby('price_range').mean() # 均值\n",
    "    VarTrain=data_train.groupby('price_range').var()    # 方差\n",
    "    pi=3.14159\n",
    "    xishu=1/(2*pi)"
   ]
  },
  {
   "cell_type": "code",
   "execution_count": 375,
   "metadata": {},
   "outputs": [],
   "source": [
    "    P_price_0=(y_train.value_counts()/y_train.count())[0]\n",
    "    P_price_1=(y_train.value_counts()/y_train.count())[1]\n",
    "    \n",
    "    ##calculate class_conditional probalbility"
   ]
  },
  {
   "cell_type": "code",
   "execution_count": 376,
   "metadata": {},
   "outputs": [],
   "source": [
    "def pdf(x,m,v):\n",
    "    ret=((xishu/v)**0.5)*(math.exp(-((x-m)*(x-m))/(2*v)))\n",
    "    return ret\n",
    "\n",
    "    ## func to calculate the probalbility density"
   ]
  },
  {
   "cell_type": "code",
   "execution_count": 377,
   "metadata": {},
   "outputs": [],
   "source": [
    "def ccp(v,att_name,c):\n",
    "    if att_name in ['blue','m_dep','dual_sim','four_g','three_g','touch_screen','wifi']:\n",
    "        return (data_train.groupby(['price_range'])[att_name].value_counts()/data_train.groupby(['price_range'])[att_name].count())[c][v]\n",
    "    else:\n",
    "        ret=pdf(v,MeanTrain[att_name][c],VarTrain[att_name][c])\n",
    "        return ret\n",
    "    \n",
    "    ## func to calculate conditional probalbility \n"
   ]
  },
  {
   "cell_type": "code",
   "execution_count": 378,
   "metadata": {},
   "outputs": [],
   "source": [
    "def Bayesclassifier(X):\n",
    "    h=[]\n",
    "    for x in X.iterrows():\n",
    "        i=0\n",
    "        h1=P_price_0;\n",
    "        h2=P_price_1;\n",
    "        for attr in x[1]:\n",
    "            h1=h1*ccp(attr,columns[i],0)\n",
    "            h2=h2*ccp(attr,columns[i],1)\n",
    "            i=i+1\n",
    "        if(h1>h2):\n",
    "            h.append(0)\n",
    "        else:\n",
    "            h.append(1)\n",
    "    return pd.Series(h)\n",
    "    "
   ]
  },
  {
   "cell_type": "markdown",
   "metadata": {},
   "source": [
    "    Now we have got the Bayes model , we will validate  the model with valid.csv"
   ]
  },
  {
   "cell_type": "code",
   "execution_count": 379,
   "metadata": {},
   "outputs": [
    {
     "name": "stdout",
     "output_type": "stream",
     "text": [
      "accuracy: 0.945\n"
     ]
    }
   ],
   "source": [
    "y_pred=Bayesclassifier(x_valid)\n",
    "print('accuracy:',accuracy_score(y_valid,y_pred))"
   ]
  },
  {
   "cell_type": "markdown",
   "metadata": {},
   "source": [
    "    It works well !"
   ]
  },
  {
   "cell_type": "code",
   "execution_count": 380,
   "metadata": {},
   "outputs": [],
   "source": [
    "NB_time_e=time.time()"
   ]
  },
  {
   "cell_type": "code",
   "execution_count": 381,
   "metadata": {},
   "outputs": [
    {
     "name": "stdout",
     "output_type": "stream",
     "text": [
      "time: 9.95516562461853\n"
     ]
    }
   ],
   "source": [
    "NB_time_train=NB_time_e-NB_time_b\n",
    "print('time:',NB_time_train)"
   ]
  },
  {
   "cell_type": "markdown",
   "metadata": {},
   "source": [
    "# "
   ]
  },
  {
   "cell_type": "markdown",
   "metadata": {},
   "source": [
    "#### Logistic Regression"
   ]
  },
  {
   "cell_type": "markdown",
   "metadata": {},
   "source": [
    "##### Data preparing"
   ]
  },
  {
   "cell_type": "code",
   "execution_count": 382,
   "metadata": {},
   "outputs": [
    {
     "data": {
      "text/plain": [
       "array([[0., 0., 0., 0., 0., 0., 0., 0., 0., 0., 0., 0., 0., 0., 0., 0.,\n",
       "        0., 0., 0., 0., 0.]])"
      ]
     },
     "execution_count": 382,
     "metadata": {},
     "output_type": "execute_result"
    }
   ],
   "source": [
    "## Training begins from here\n",
    "LR_time_b=time.time()\n",
    "B=np.zeros((1,len(columns)+1)) ##initial beta\n",
    "B"
   ]
  },
  {
   "cell_type": "markdown",
   "metadata": {},
   "source": [
    "##### Function definition"
   ]
  },
  {
   "cell_type": "code",
   "execution_count": 383,
   "metadata": {},
   "outputs": [],
   "source": [
    "def LR_Classifier(X_train,B):\n",
    "    Y=[]\n",
    "    X_h=np.c_[np.matrix(X_train),np.ones((len(X_train),1))]\n",
    "    for i in range(0,len(X_h)):\n",
    "        if sigmoid(X_h[i],B)>0.5:\n",
    "            Y.append(1)\n",
    "        else:\n",
    "            Y.append(0)\n",
    "    return pd.Series(Y)\n",
    "    \n",
    "    ## This is the classifier we want\n",
    "\n",
    "    \n",
    "def Normalization(x):\n",
    "    for i in columns:\n",
    "        min=x.describe()[i]['min']\n",
    "        max=x.describe()[i]['max']\n",
    "        x[i]=x[i].map(lambda z: (z-min)/(max-min))\n",
    "    return x\n",
    "    ## Normalize the dataframe to [0,1]\n",
    "    \n",
    "def init():\n",
    "    B=np.zeros((1,len(columns)+1)) ##initial beta\n",
    "    return B\n",
    "def sigmoid(X,B):\n",
    "    return 1/(1+np.exp(-float(X*B.T)))\n",
    "\n",
    "    ## the sigmoid function\n",
    "    \n",
    "def PrP(yi,X,B):\n",
    "    if yi==0:\n",
    "        return 1-sigmoid(X,B)\n",
    "    else:\n",
    "        return sigmoid(X,B)\n",
    "    \n",
    "    ## calculate the post probalbility\n",
    "    \n",
    "def iter(X,B,yi):\n",
    "    f1=np.zeros((1,len(columns)+1))\n",
    "    f2=0\n",
    "    for i in range(0,len(x_train)):\n",
    "        prp=PrP(y_train.iloc[i],X[i],B)\n",
    "        f1=f1+X[i]*(float(y_train.iloc[i]-prp))\n",
    "        f2=f2+float(X[i]*X[i].T)*float(prp)*(float(1-prp))\n",
    "    return B-(1/f2)*(-f1)\n",
    "\n",
    "    ## Use Newton method\n",
    "    \n",
    "def logTrain(B,times,x_train,y_train):\n",
    "    ## training funciotn\n",
    "    B_new=B\n",
    "    X_h=np.c_[np.matrix(x_train),np.ones((1600,1))]\n",
    "    for i in range(0,times):\n",
    "        B_new=iter(X_h,B_new,y_train)\n",
    "        if accuracy_score(y_valid,LR_Classifier(x_valid,B_new)) > 0.87 or i==1000:\n",
    "            return B_new\n",
    "    ## If the score reaches 0.87 then stop traini"
   ]
  },
  {
   "cell_type": "code",
   "execution_count": 384,
   "metadata": {},
   "outputs": [
    {
     "data": {
      "text/plain": [
       "matrix([[ 0.06088449, -0.00141929, -0.02621448, -0.02491635, -0.00500133,\n",
       "         -0.03305773, -0.01435579, -0.04722374, -0.04602488, -0.01752771,\n",
       "         -0.01948069,  0.0285616 ,  0.03679375,  0.51587386, -0.03513108,\n",
       "         -0.00617068, -0.03731241, -0.02527021, -0.11201379, -0.01991268,\n",
       "         -0.07361269]])"
      ]
     },
     "execution_count": 384,
     "metadata": {},
     "output_type": "execute_result"
    }
   ],
   "source": [
    "B=init()\n",
    "x_train_L=Normalization(x_train)\n",
    "x_valid_L=Normalization(x_valid)\n",
    "B=logTrain(B,1500,x_train_L,y_train)\n",
    "B"
   ]
  },
  {
   "cell_type": "markdown",
   "metadata": {},
   "source": [
    "    Now we have got the model , let's validate it ."
   ]
  },
  {
   "cell_type": "code",
   "execution_count": 385,
   "metadata": {},
   "outputs": [
    {
     "name": "stdout",
     "output_type": "stream",
     "text": [
      "accuracy: 0.88\n"
     ]
    }
   ],
   "source": [
    "y_pred=LR_Classifier(x_valid_L,B)\n",
    "score=accuracy_score(y_valid,y_pred)\n",
    "print('accuracy:',score)\n",
    "LR_time_e=time.time()"
   ]
  },
  {
   "cell_type": "markdown",
   "metadata": {},
   "source": [
    "    It seems not bad ."
   ]
  },
  {
   "cell_type": "code",
   "execution_count": 386,
   "metadata": {},
   "outputs": [
    {
     "name": "stdout",
     "output_type": "stream",
     "text": [
      "time: 6.113572597503662\n"
     ]
    }
   ],
   "source": [
    "LR_time_train=LR_time_e-LR_time_b\n",
    "print('time:',LR_time_train)"
   ]
  },
  {
   "cell_type": "markdown",
   "metadata": {},
   "source": [
    "# "
   ]
  },
  {
   "cell_type": "markdown",
   "metadata": {},
   "source": [
    "#### SVM"
   ]
  },
  {
   "cell_type": "code",
   "execution_count": 387,
   "metadata": {},
   "outputs": [
    {
     "name": "stdout",
     "output_type": "stream",
     "text": [
      "SVC(kernel='linear')\n"
     ]
    }
   ],
   "source": [
    "## Training begin\n",
    "    SVM_time_b=time.time()\n",
    "    clf = svm.SVC(kernel = 'linear')#实例化\n",
    "    clf.fit(x_train, y_train)#拟合\n",
    "    print (clf)"
   ]
  },
  {
   "cell_type": "code",
   "execution_count": 388,
   "metadata": {},
   "outputs": [],
   "source": [
    "y_pred=clf.predict(x_valid)\n",
    "accuracy_score(y_valid,y_pred)\n",
    "SVM_time_e=time.time()"
   ]
  },
  {
   "cell_type": "code",
   "execution_count": 389,
   "metadata": {},
   "outputs": [
    {
     "name": "stdout",
     "output_type": "stream",
     "text": [
      "time: 0.04138326644897461\n"
     ]
    }
   ],
   "source": [
    "SVM_time_train=SVM_time_e-SVM_time_b\n",
    "print('time:',SVM_time_train)"
   ]
  },
  {
   "cell_type": "code",
   "execution_count": 390,
   "metadata": {},
   "outputs": [
    {
     "name": "stdout",
     "output_type": "stream",
     "text": [
      "accuracy: 0.985\n"
     ]
    }
   ],
   "source": [
    "print('accuracy:',accuracy_score(y_valid,y_pred))"
   ]
  },
  {
   "cell_type": "markdown",
   "metadata": {},
   "source": [
    "    斯巴拉西！！！！！"
   ]
  },
  {
   "cell_type": "markdown",
   "metadata": {},
   "source": [
    "# "
   ]
  },
  {
   "cell_type": "markdown",
   "metadata": {},
   "source": [
    "# Test\n",
    "    Now I'm going to test the test.csv with the three model ."
   ]
  },
  {
   "cell_type": "code",
   "execution_count": 391,
   "metadata": {},
   "outputs": [],
   "source": [
    "## Data Preprocessing\n",
    "data_test[\"price_range\"]=data_test[\"price_range\"].map(lambda z:int(z/2))\n",
    "y_test=data_test['price_range']\n",
    "x_test=data_test.drop('price_range',axis=1)\n"
   ]
  },
  {
   "cell_type": "code",
   "execution_count": 392,
   "metadata": {},
   "outputs": [],
   "source": [
    "## test NB begin\n",
    "Time0=time.time()\n",
    "y_pred_NB=Bayesclassifier(x_test)\n",
    "Time1=time.time()\n",
    "score_NB=accuracy_score(y_test,y_pred_NB)\n",
    "time_nb=Time1-Time0"
   ]
  },
  {
   "cell_type": "code",
   "execution_count": 393,
   "metadata": {},
   "outputs": [],
   "source": [
    "## test LR begin\n",
    "x_test_L=Normalization(x_test)\n",
    "Time0=time.time()\n",
    "y_pred_LR=LR_Classifier(x_test_L,B)\n",
    "Time1=time.time()\n",
    "score_LR=accuracy_score(y_test,y_pred_LR)\n",
    "time_LR=Time1-Time0"
   ]
  },
  {
   "cell_type": "code",
   "execution_count": 394,
   "metadata": {},
   "outputs": [],
   "source": [
    "## test SVM begin\n",
    "Time0=time.time()\n",
    "y_pred_SVM=clf.predict(x_test_L)\n",
    "Time1=time.time()\n",
    "time_SVM=Time1-Time0\n",
    "score_SVM=accuracy_score(y_test,y_pred_SVM)"
   ]
  },
  {
   "cell_type": "markdown",
   "metadata": {},
   "source": [
    "    Compart the three models with graphs"
   ]
  },
  {
   "cell_type": "code",
   "execution_count": 395,
   "metadata": {},
   "outputs": [
    {
     "data": {
      "image/png": "[encoded data removed]",
      "text/plain": [
       "<Figure size 432x288 with 1 Axes>"
      ]
     },
     "metadata": {
      "needs_background": "light"
     },
     "output_type": "display_data"
    }
   ],
   "source": [
    "models = ['Naive Bayes', 'LR', 'SVM']\n",
    "acc_scores = [score_NB, score_LR, score_SVM]\n",
    "plt.bar(models, acc_scores, color=['lightblue', 'pink', 'lightgrey'])\n",
    "plt.ylabel(\"accuracy scores\")\n",
    "plt.title(\"Which model is the most accurate?\")\n",
    "plt.show()"
   ]
  },
  {
   "cell_type": "markdown",
   "metadata": {},
   "source": [
    "    As can be seen from the chart, the effect of SVM model using third-party library is amazing. The results of my own implementation of Bayes model and LR model are not much different, and Bayes model performs better in data testing."
   ]
  },
  {
   "cell_type": "markdown",
   "metadata": {},
   "source": [
    "    Let's see the time cost next."
   ]
  },
  {
   "cell_type": "code",
   "execution_count": 396,
   "metadata": {},
   "outputs": [
    {
     "data": {
      "image/png": "[encoded data removed]",
      "text/plain": [
       "<Figure size 432x288 with 1 Axes>"
      ]
     },
     "metadata": {
      "needs_background": "light"
     },
     "output_type": "display_data"
    }
   ],
   "source": [
    "Total = [time_nb+NB_time_train,time_LR+LR_time_train,time_SVM+SVM_time_train]\n",
    "Train = [NB_time_train,LR_time_train,SVM_time_train]\n",
    "X = np.arange(len(Y))\n",
    "bar_width = 0.25\n",
    "\n",
    "\n",
    "#显示每个柱的具体高度\n",
    "for x,y in zip(X,Total):\n",
    "    plt.text(x-0.05,y,'%.3f' %y, ha='center',va='bottom')\n",
    "\n",
    "for x,y1 in zip(X,Train):\n",
    "    plt.text(x+0.3,y1+0.005,'%.3f' %y1, ha='center',va='bottom')\n",
    " \n",
    "plt.bar(X, Y, bar_width, align=\"center\", color=\"red\", label=\"Total time\", alpha=0.5)\n",
    "plt.bar(X+bar_width, Y1, bar_width, color=\"purple\", align=\"center\", \\\n",
    "        label=\"Training time\", alpha=0.5)\n",
    "\n",
    "plt.xlabel(\"Model\")\n",
    "plt.ylabel(\"Time cost\")\n",
    "plt.title('Which model cost more time?')\n",
    "\n",
    "plt.xticks(X+bar_width/2,models)\n",
    "#显示图例\n",
    "plt.legend()\n",
    "plt.show()\n"
   ]
  },
  {
   "cell_type": "markdown",
   "metadata": {},
   "source": [
    "    From the chart, it can be seen that the SVM model using third-party library is still very good. Although Bayes model has higher accuracy, LR model is better in training time and test time. To be more user-friendly, LR model is preferred."
   ]
  },
  {
   "cell_type": "markdown",
   "metadata": {},
   "source": [
    "# \n",
    "# Conclusion"
   ]
  },
  {
   "cell_type": "markdown",
   "metadata": {},
   "source": [
    "    In this project, I implemented and compared naive Bayes model and logistic regression model. Compared with the SVM model implemented by the third-party library, my model implementation still needs to be optimized.\n",
    "    NB model assumes that the attributes of data are independent of each other, while LR model obtains the coupling relationship between attributes by gradient descent method. In practical application, we should consider the application environment and purpose to select the optimal model."
   ]
  }
 ],
 "metadata": {
  "kernelspec": {
   "display_name": "Python 3",
   "language": "python",
   "name": "python3"
  },
  "language_info": {
   "codemirror_mode": {
    "name": "ipython",
    "version": 3
   },
   "file_extension": ".py",
   "mimetype": "text/x-python",
   "name": "python",
   "nbconvert_exporter": "python",
   "pygments_lexer": "ipython3",
   "version": "3.8.3"
  }
 },
 "nbformat": 4,
 "nbformat_minor": 4
}
